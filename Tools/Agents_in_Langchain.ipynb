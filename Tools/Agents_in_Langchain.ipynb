{
 "cells": [
  {
   "cell_type": "code",
   "execution_count": 1,
   "id": "40e87311",
   "metadata": {},
   "outputs": [],
   "source": [
    "import os"
   ]
  },
  {
   "cell_type": "code",
   "execution_count": 2,
   "id": "08c2f63f",
   "metadata": {},
   "outputs": [
    {
     "data": {
      "text/plain": [
       "True"
      ]
     },
     "execution_count": 2,
     "metadata": {},
     "output_type": "execute_result"
    }
   ],
   "source": [
    "from langchain_openai import ChatOpenAI\n",
    "from langchain_core.tools import tool\n",
    "import requests\n",
    "from langchain_community.tools import DuckDuckGoSearchRun\n",
    "from langchain_groq import ChatGroq\n",
    "from dotenv import load_dotenv\n",
    "\n",
    "load_dotenv()"
   ]
  },
  {
   "cell_type": "code",
   "execution_count": 3,
   "id": "0e7287ff",
   "metadata": {},
   "outputs": [
    {
     "data": {
      "text/plain": [
       "\"India News | Latest India News | Read latest and breaking news from India. Today's top India news headlines, news on Indian politics, elections, government, business, technology, and Bollywood. Top News Stories of the day, Latest News Headlines, News Specials, Breaking News and Latest India News, World current affairs & Political News all around the clock at NDTV.com. Headlines today: Get news headlines from India and around the world. Today's breaking news on politics, sports, entertainment, business, life style and many more on Times of India Latest news headlines from India & around the world. Check out today's news coverage live with videos & photos on NDTV.com. Read all India news and breaking news today from India on politics, business, entertainment, technology, sports, lifestyle and more at CNBC TV18. ... Top India News Follow. Congress claims credit for Centre's caste census move, lauds Rahul Gandhi's advocacy. Apr 30, 2025 10:09 PM IST.\""
      ]
     },
     "execution_count": 3,
     "metadata": {},
     "output_type": "execute_result"
    }
   ],
   "source": [
    "search_tool=DuckDuckGoSearchRun()\n",
    "result=search_tool.invoke('top news in India today')\n",
    "result"
   ]
  },
  {
   "cell_type": "code",
   "execution_count": null,
   "id": "15c478af",
   "metadata": {},
   "outputs": [],
   "source": [
    "@tool\n",
    "def get_weather_data(city: str) -> str:\n",
    "  \"\"\"\n",
    "  This function fetches the current weather data for a given city\n",
    "  \"\"\"\n",
    "  url = f'https://api.weatherstack.com/current?access_key=4d1d8ae207a8c845a52df8a67bf3623e&query={city}'\n",
    "\n",
    "  response = requests.get(url)\n",
    "\n",
    "  return response.json()"
   ]
  },
  {
   "cell_type": "code",
   "execution_count": 5,
   "id": "f5a50b0e",
   "metadata": {},
   "outputs": [
    {
     "data": {
      "text/plain": [
       "AIMessage(content='Hi! 👋 \\n\\nHow can I help you today? 😄\\n', additional_kwargs={}, response_metadata={'token_usage': {'completion_tokens': 16, 'prompt_tokens': 11, 'total_tokens': 27, 'completion_time': 0.029090909, 'prompt_time': 0.001908997, 'queue_time': 0.232739934, 'total_time': 0.030999906}, 'model_name': 'Gemma2-9b-It', 'system_fingerprint': 'fp_10c08bf97d', 'finish_reason': 'stop', 'logprobs': None}, id='run-ada23c56-1bac-471f-a3b2-a31342062257-0', usage_metadata={'input_tokens': 11, 'output_tokens': 16, 'total_tokens': 27})"
      ]
     },
     "execution_count": 5,
     "metadata": {},
     "output_type": "execute_result"
    }
   ],
   "source": [
    "llm=ChatGroq(model_name=\"Gemma2-9b-It\")\n",
    "llm.invoke(\"Hi\")"
   ]
  },
  {
   "cell_type": "code",
   "execution_count": 6,
   "id": "c99fb65c",
   "metadata": {},
   "outputs": [],
   "source": [
    "from langchain.agents import create_react_agent,AgentExecutor\n",
    "from langchain import hub"
   ]
  },
  {
   "cell_type": "code",
   "execution_count": 7,
   "id": "e9240194",
   "metadata": {},
   "outputs": [
    {
     "name": "stderr",
     "output_type": "stream",
     "text": [
      "d:\\Sagar\\Data_Science\\langchain_models\\venv\\lib\\site-packages\\langsmith\\client.py:253: LangSmithMissingAPIKeyWarning: API key must be provided when using hosted LangSmith API\n",
      "  warnings.warn(\n"
     ]
    }
   ],
   "source": [
    "## Step 2: Pull the ReAct prompt from langchain hub\n",
    "prompt=hub.pull(\"hwchase17/react\")   ### pull the standard ReAct agent prompt"
   ]
  },
  {
   "cell_type": "code",
   "execution_count": null,
   "id": "4a3b3992",
   "metadata": {},
   "outputs": [],
   "source": [
    "### Step 3: Create the ReAct agent manually with the pulled prompt\n",
    "agent=create_react_agent(llm=llm,tools=[search_tool,get_weather_data],\n",
    "                         prompt=prompt)\n"
   ]
  },
  {
   "cell_type": "code",
   "execution_count": null,
   "id": "6950a558",
   "metadata": {},
   "outputs": [],
   "source": [
    "## Step 4:Wrap it with Agent Executor:\n",
    "agent_executor=AgentExecutor(agent=agent,\n",
    "                             tools=[search_tool,get_weather_data],\n",
    "                             verbose=True)\n"
   ]
  },
  {
   "cell_type": "code",
   "execution_count": 10,
   "id": "a10a4b66",
   "metadata": {},
   "outputs": [
    {
     "name": "stdout",
     "output_type": "stream",
     "text": [
      "\n",
      "\n",
      "\u001b[1m> Entering new AgentExecutor chain...\u001b[0m\n",
      "\u001b[32;1m\u001b[1;3mThought: I need to find information about travel routes from Delhi to Goa. \n",
      "Action: duckduckgo_search\n",
      "Action Input: how to get from delhi to goa\u001b[0m\u001b[36;1m\u001b[1;3mThe cheapest train you can take from New Delhi to Goa is 22656 NZM ERS SF EXP.The train takes 29hr 10min hours to travel between New Delhi and Goa. The train departs at 05:00:00 from New Delhi NDLS and arrives at 10:10:00 in Goa MAO, operating on Fri. New Delhi to Goa, Goa, India 12 Trains. Stations near Goa, Goa, India SVM/Sanvordem (Kudchade) 4 km KM/Kalem 7 km CNR/Chandor Goa 9 km QLM/Kulem 13 km SJDA/San Juje Da Areyal 13 km MAO/Madgaon Junction 17 km SRVX/Suravali 20 km KRMI/Karmali 30 km 2 Rajdhani Trains 2 ... 12 Long-Distance Trains between New Delhi and Goa, Goa, India. No. Name: Delhi to Goa Bus Ticket Price. You can make your bus booking online. The Delhi to Goa bus tickets fare starts from INR 4000 per head and can go as high as INR 4000 per head. The ticket price depends on various factors such as your travel needs and bus availability. Moreover, the fare of an AC bus from Delhi to Goa is higher than an ordinary bus. New Delhi to Goa: Flight information The things to know before you go. Cheapest flight found: $47: Cheapest month to fly: August: Average flight time: 2 hrs, 38 mins: Most popular airline: Air India: Average flights per week: 91: Finding cheap flights from Indira Gandhi International to Goa North Manohar International: Frequently asked questions. Takes 24-30+ hours to reach Goa. Tickets sell out fast, so book 1-2 months in advance on IRCTC. Cheapest Bus Options from Delhi to Goa (Only If You Have Time to Spare) Budget Bus Services from Delhi to Goa Buses are not the most comfortable option, but they are available for travelers who want to save money and enjoy a road trip experience.\u001b[0m\u001b[32;1m\u001b[1;3mThought:  I see the observation mentions trains, buses, and flights. Those are the three ways to get from Delhi to Goa.\n",
      "Final Answer: 3 ways to reach Goa from Delhi are by train, bus, and flight. \n",
      "\u001b[0m\n",
      "\n",
      "\u001b[1m> Finished chain.\u001b[0m\n",
      "{'input': '3 ways to reach goa from delhi', 'output': '3 ways to reach Goa from Delhi are by train, bus, and flight.'}\n"
     ]
    }
   ],
   "source": [
    "### Step 5: Invoke:\n",
    "response=agent_executor.invoke({'input':\"3 ways to reach goa from delhi\"})\n",
    "print(response)"
   ]
  },
  {
   "cell_type": "code",
   "execution_count": null,
   "id": "9ebbc520",
   "metadata": {},
   "outputs": [],
   "source": []
  }
 ],
 "metadata": {
  "kernelspec": {
   "display_name": "Python 3",
   "language": "python",
   "name": "python3"
  },
  "language_info": {
   "codemirror_mode": {
    "name": "ipython",
    "version": 3
   },
   "file_extension": ".py",
   "mimetype": "text/x-python",
   "name": "python",
   "nbconvert_exporter": "python",
   "pygments_lexer": "ipython3",
   "version": "3.10.0"
  }
 },
 "nbformat": 4,
 "nbformat_minor": 5
}
