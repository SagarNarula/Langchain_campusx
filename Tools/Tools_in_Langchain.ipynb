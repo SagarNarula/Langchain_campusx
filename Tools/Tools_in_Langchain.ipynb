{
 "cells": [
  {
   "cell_type": "code",
   "execution_count": 2,
   "id": "260d8f7c",
   "metadata": {},
   "outputs": [
    {
     "data": {
      "text/plain": [
       "\"Fastest IPL fifties: Fourteen-year-old Vaibhav Suryavanshi went on a rampage on Monday at the Sawai Mansingh Stadium in Jaipur as he smashed the fastest fifty of the IPL 2025 season in only 17 balls against Gujarat Titans in a 210-run chase. Suryavanshi's half-century, the first of his T20 career, is also one of the quickest fifties ever in IPL history by an uncapped batter. Vaibhav Suryavanshi plays a shot during the IPL match between Rajasthan Royals and Lucknow Super Giants at the Sawai Mansingh Stadium in Jaipur on April 19, 2025 [Money Sharma/AFP] His cricket ... At 14 years and 23 days, Vaibhav Suryavanshi became the IPL's youngest debutant when he was brought in as an Impact Player in Rajasthan Royals' (RR) chase of 181 against Lucknow Super Giants (LSG ... Teenage phenom Vaibhav Suryavanshi became the youngest ever cricketer to appear in the Indian Premier League (IPL) when he made his debut for the Rajasthan Royals on Saturday at the age of just 14 ... Vaibhav Suryavanshi, 14, has made history as the youngest player to play in the Indian Premier League after being called in to replace Rajasthan's injured skipper Sanju Samson.\""
      ]
     },
     "execution_count": 2,
     "metadata": {},
     "output_type": "execute_result"
    }
   ],
   "source": [
    "from langchain_community.tools import DuckDuckGoSearchRun\n",
    "search_tool=DuckDuckGoSearchRun()\n",
    "results=search_tool.invoke('Vaibhav Suryavanshi')\n",
    "results\n"
   ]
  },
  {
   "cell_type": "markdown",
   "id": "e61ba4e0",
   "metadata": {},
   "source": [
    "Built in Tool Shell Tool"
   ]
  },
  {
   "cell_type": "code",
   "execution_count": 3,
   "id": "b0f088da",
   "metadata": {},
   "outputs": [
    {
     "name": "stdout",
     "output_type": "stream",
     "text": [
      "Executing command:\n",
      " whoami\n"
     ]
    },
    {
     "name": "stderr",
     "output_type": "stream",
     "text": [
      "d:\\Sagar\\Data_Science\\langchain_models\\venv\\lib\\site-packages\\langchain_community\\tools\\shell\\tool.py:33: UserWarning: The shell tool has no safeguards by default. Use at your own risk.\n",
      "  warnings.warn(\n"
     ]
    },
    {
     "data": {
      "text/plain": [
       "'saumya\\\\sagar\\r\\n'"
      ]
     },
     "execution_count": 3,
     "metadata": {},
     "output_type": "execute_result"
    }
   ],
   "source": [
    "from langchain_community.tools import ShellTool\n",
    "\n",
    "shell_tool=ShellTool()\n",
    "\n",
    "results=shell_tool.invoke(\"whoami\")\n",
    "\n",
    "results"
   ]
  },
  {
   "cell_type": "markdown",
   "id": "74c662cb",
   "metadata": {},
   "source": [
    "Custom Tools"
   ]
  },
  {
   "cell_type": "code",
   "execution_count": 4,
   "id": "b51d6b76",
   "metadata": {},
   "outputs": [],
   "source": [
    "from langchain_core.tools import tool"
   ]
  },
  {
   "cell_type": "code",
   "execution_count": 6,
   "id": "03ad8531",
   "metadata": {},
   "outputs": [],
   "source": [
    "## Step 1 Create a function\n",
    "def multiply(a,b):\n",
    "    \"\"\"Multiply two numbers\"\"\"\n",
    "    return a*b"
   ]
  },
  {
   "cell_type": "code",
   "execution_count": 7,
   "id": "bf80c8db",
   "metadata": {},
   "outputs": [],
   "source": [
    "## Step 2 -add type hints\n",
    "\n",
    "def multiply(a:int,b:int)->int:\n",
    "    \"\"\"Multiply two numbers\"\"\"\n",
    "    return a*b"
   ]
  },
  {
   "cell_type": "code",
   "execution_count": 8,
   "id": "09a83686",
   "metadata": {},
   "outputs": [],
   "source": [
    "## Step 3 -add tool decorator\n",
    "\n",
    "@tool\n",
    "def multiply(a:int,b:int)->int:\n",
    "    \"\"\"Multiply two numbers\"\"\"\n",
    "    return a*b"
   ]
  },
  {
   "cell_type": "code",
   "execution_count": 9,
   "id": "b93caf60",
   "metadata": {},
   "outputs": [
    {
     "data": {
      "text/plain": [
       "12"
      ]
     },
     "execution_count": 9,
     "metadata": {},
     "output_type": "execute_result"
    }
   ],
   "source": [
    "result=multiply.invoke({'a':3,\"b\":4})\n",
    "result"
   ]
  },
  {
   "cell_type": "code",
   "execution_count": 11,
   "id": "a36e3be8",
   "metadata": {},
   "outputs": [
    {
     "name": "stdout",
     "output_type": "stream",
     "text": [
      "multiply\n",
      "Multiply two numbers\n",
      "{'a': {'title': 'A', 'type': 'integer'}, 'b': {'title': 'B', 'type': 'integer'}}\n"
     ]
    }
   ],
   "source": [
    "print(multiply.name)\n",
    "print(multiply.description)\n",
    "print(multiply.args)"
   ]
  },
  {
   "cell_type": "code",
   "execution_count": 12,
   "id": "b91e132f",
   "metadata": {},
   "outputs": [
    {
     "name": "stdout",
     "output_type": "stream",
     "text": [
      "{'description': 'Multiply two numbers', 'properties': {'a': {'title': 'A', 'type': 'integer'}, 'b': {'title': 'B', 'type': 'integer'}}, 'required': ['a', 'b'], 'title': 'multiply', 'type': 'object'}\n"
     ]
    }
   ],
   "source": [
    "print(multiply.args_schema.model_json_schema())"
   ]
  },
  {
   "cell_type": "markdown",
   "id": "78382685",
   "metadata": {},
   "source": [
    "Method 2:Using Structured Output"
   ]
  },
  {
   "cell_type": "code",
   "execution_count": 13,
   "id": "4b6e6ce5",
   "metadata": {},
   "outputs": [],
   "source": [
    "from langchain.tools import StructuredTool\n",
    "from pydantic import Field,BaseModel"
   ]
  },
  {
   "cell_type": "code",
   "execution_count": 14,
   "id": "3744c8e9",
   "metadata": {},
   "outputs": [],
   "source": [
    "class MultiplyInput(BaseModel):\n",
    "    a:int=Field(required=True,description=\"The first number to add\")\n",
    "    b:int=Field(required=True,description=\"The second number to add\")\n"
   ]
  },
  {
   "cell_type": "code",
   "execution_count": 15,
   "id": "fd47f50b",
   "metadata": {},
   "outputs": [],
   "source": [
    "def multiply(a,b):\n",
    "    return a*b"
   ]
  },
  {
   "cell_type": "code",
   "execution_count": 17,
   "id": "93944c17",
   "metadata": {},
   "outputs": [
    {
     "data": {
      "text/plain": [
       "15"
      ]
     },
     "execution_count": 17,
     "metadata": {},
     "output_type": "execute_result"
    }
   ],
   "source": [
    "multiply_tool=StructuredTool.from_function(func=multiply,name=\"multiply\",description=\"multipy two numbers\",\n",
    "                                           args_schema=MultiplyInput\n",
    "                                           )\n",
    "\n",
    "result=multiply_tool.invoke({'a':3,\"b\":5})\n",
    "result"
   ]
  },
  {
   "cell_type": "code",
   "execution_count": 18,
   "id": "f3c7faf4",
   "metadata": {},
   "outputs": [
    {
     "name": "stdout",
     "output_type": "stream",
     "text": [
      "multiply\n",
      "multipy two numbers\n",
      "{'a': {'description': 'The first number to add', 'required': True, 'title': 'A', 'type': 'integer'}, 'b': {'description': 'The second number to add', 'required': True, 'title': 'B', 'type': 'integer'}}\n"
     ]
    }
   ],
   "source": [
    "print(multiply_tool.name)\n",
    "print(multiply_tool.description)\n",
    "print(multiply_tool.args)"
   ]
  },
  {
   "cell_type": "markdown",
   "id": "9545e7fe",
   "metadata": {},
   "source": [
    "## Method 3 Using Base Tool Class"
   ]
  },
  {
   "cell_type": "code",
   "execution_count": 20,
   "id": "400a86f1",
   "metadata": {},
   "outputs": [],
   "source": [
    "from langchain.tools import BaseTool\n",
    "from typing import Type"
   ]
  },
  {
   "cell_type": "code",
   "execution_count": 19,
   "id": "7ac70f86",
   "metadata": {},
   "outputs": [],
   "source": [
    "## arg schema using pydantic:\n",
    "\n",
    "class MultiplyInput(BaseModel):\n",
    "    a:int=Field(required=True,description=\"The first number to add\")\n",
    "    b:int=Field(required=True,description=\"The second number to add\")\n"
   ]
  },
  {
   "cell_type": "code",
   "execution_count": 21,
   "id": "6c16e067",
   "metadata": {},
   "outputs": [],
   "source": [
    "class MultiplyTool(BaseTool):\n",
    "    name:str=\"Multiply\"\n",
    "    description:str=\"Multiply two numbers\"\n",
    "\n",
    "    args_schema:Type[BaseModel]=MultiplyInput\n",
    "\n",
    "    def _run(self,a:int,b:int)->int:\n",
    "        return a*b"
   ]
  },
  {
   "cell_type": "code",
   "execution_count": 22,
   "id": "1d10d490",
   "metadata": {},
   "outputs": [],
   "source": [
    "multiply_tool=MultiplyTool()"
   ]
  },
  {
   "cell_type": "code",
   "execution_count": 23,
   "id": "cfee8305",
   "metadata": {},
   "outputs": [
    {
     "data": {
      "text/plain": [
       "20"
      ]
     },
     "execution_count": 23,
     "metadata": {},
     "output_type": "execute_result"
    }
   ],
   "source": [
    "result=multiply_tool.invoke({'a':4,'b':5})\n",
    "result"
   ]
  },
  {
   "cell_type": "code",
   "execution_count": 24,
   "id": "9b596d81",
   "metadata": {},
   "outputs": [
    {
     "name": "stdout",
     "output_type": "stream",
     "text": [
      "Multiply\n",
      "Multiply two numbers\n",
      "<class '__main__.MultiplyInput'>\n"
     ]
    }
   ],
   "source": [
    "print(multiply_tool.name)\n",
    "print(multiply_tool.description)\n",
    "print(multiply_tool.args_schema)"
   ]
  },
  {
   "cell_type": "markdown",
   "id": "7e5577c7",
   "metadata": {},
   "source": [
    "Toolkit"
   ]
  },
  {
   "cell_type": "code",
   "execution_count": 26,
   "id": "29c88e06",
   "metadata": {},
   "outputs": [],
   "source": [
    "from langchain_core.tools import tool\n",
    "\n",
    "## custom tools\n",
    "\n",
    "@tool\n",
    "def add(a:int,b:int)->int:\n",
    "    \"Addition of two numbers\"\n",
    "    return a+b\n",
    "\n",
    "@tool\n",
    "def multiply(a:int,b:int)->int:\n",
    "    \"Multiplication of two numbers\"\n",
    "    return a*b"
   ]
  },
  {
   "cell_type": "code",
   "execution_count": 27,
   "id": "e575fce4",
   "metadata": {},
   "outputs": [],
   "source": [
    "class MathToolkit:\n",
    "    def get_tools(self):\n",
    "        return [add,multiply]"
   ]
  },
  {
   "cell_type": "code",
   "execution_count": 30,
   "id": "105f7d54",
   "metadata": {},
   "outputs": [],
   "source": [
    "toolkit=MathToolkit()\n",
    "tools=toolkit.get_tools()"
   ]
  },
  {
   "cell_type": "code",
   "execution_count": 31,
   "id": "aba37a61",
   "metadata": {},
   "outputs": [
    {
     "name": "stdout",
     "output_type": "stream",
     "text": [
      "add => Addition of two numbers\n",
      "multiply => Multiplication of two numbers\n"
     ]
    }
   ],
   "source": [
    "for tool in tools:\n",
    "    print(tool.name,\"=>\",tool.description)"
   ]
  },
  {
   "cell_type": "code",
   "execution_count": null,
   "id": "bf55dd33",
   "metadata": {},
   "outputs": [],
   "source": []
  }
 ],
 "metadata": {
  "kernelspec": {
   "display_name": "Python 3",
   "language": "python",
   "name": "python3"
  },
  "language_info": {
   "codemirror_mode": {
    "name": "ipython",
    "version": 3
   },
   "file_extension": ".py",
   "mimetype": "text/x-python",
   "name": "python",
   "nbconvert_exporter": "python",
   "pygments_lexer": "ipython3",
   "version": "3.10.0"
  }
 },
 "nbformat": 4,
 "nbformat_minor": 5
}
